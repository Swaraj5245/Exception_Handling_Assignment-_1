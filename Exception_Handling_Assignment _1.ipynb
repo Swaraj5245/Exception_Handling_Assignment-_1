{
 "cells": [
  {
   "cell_type": "markdown",
   "id": "ce2cd658-ac47-40b0-a79a-c2b9a344bade",
   "metadata": {},
   "source": [
    "### Q1. What is an Exception in pyhton ? write a difference betweeen Exception & Syntax Error"
   ]
  },
  {
   "cell_type": "markdown",
   "id": "95914591-91e2-4d34-ade4-712176f81ee8",
   "metadata": {},
   "source": [
    "**Exception:** Exception in python is used to raise error if the *try* block didn't executed because of error.\n",
    "\n",
    "**Difference Between Exception & Synatax Error:**  \n",
    "*Exception* error occur when the try block didn't get executed then it throw error while the *Syntax Error* throw error when any systax is missed in any *block of code* like forgot to **:** in a loop and forgot to close bracket."
   ]
  },
  {
   "cell_type": "markdown",
   "id": "f55075d8-c1c1-4c66-88b3-91cabae8fa13",
   "metadata": {},
   "source": [
    "### Q2. What happens when an Exception is not handled? Explain with example."
   ]
  },
  {
   "cell_type": "markdown",
   "id": "6ece80d7-d875-40c2-a6b3-be6db85b68a2",
   "metadata": {},
   "source": [
    "when the *Exception* is not handled then it throw error like *unhadled Exception*, In that it give the location where error found and the information about the exception type.  \n",
    "**Example:** "
   ]
  },
  {
   "cell_type": "code",
   "execution_count": 22,
   "id": "dae527a4-dc14-4772-bf63-b6983ada3f60",
   "metadata": {},
   "outputs": [
    {
     "ename": "ZeroDivisionError",
     "evalue": "division by zero",
     "output_type": "error",
     "traceback": [
      "\u001b[0;31m---------------------------------------------------------------------------\u001b[0m",
      "\u001b[0;31mZeroDivisionError\u001b[0m                         Traceback (most recent call last)",
      "Cell \u001b[0;32mIn[22], line 4\u001b[0m\n\u001b[1;32m      1\u001b[0m \u001b[38;5;28;01mdef\u001b[39;00m \u001b[38;5;21mdivide\u001b[39m(x, y):\n\u001b[1;32m      2\u001b[0m     \u001b[38;5;28;01mreturn\u001b[39;00m x \u001b[38;5;241m/\u001b[39m y\n\u001b[0;32m----> 4\u001b[0m \u001b[38;5;28mprint\u001b[39m(\u001b[43mdivide\u001b[49m\u001b[43m(\u001b[49m\u001b[38;5;241;43m10\u001b[39;49m\u001b[43m,\u001b[49m\u001b[38;5;241;43m0\u001b[39;49m\u001b[43m)\u001b[49m)\n",
      "Cell \u001b[0;32mIn[22], line 2\u001b[0m, in \u001b[0;36mdivide\u001b[0;34m(x, y)\u001b[0m\n\u001b[1;32m      1\u001b[0m \u001b[38;5;28;01mdef\u001b[39;00m \u001b[38;5;21mdivide\u001b[39m(x, y):\n\u001b[0;32m----> 2\u001b[0m     \u001b[38;5;28;01mreturn\u001b[39;00m \u001b[43mx\u001b[49m\u001b[43m \u001b[49m\u001b[38;5;241;43m/\u001b[39;49m\u001b[43m \u001b[49m\u001b[43my\u001b[49m\n",
      "\u001b[0;31mZeroDivisionError\u001b[0m: division by zero"
     ]
    }
   ],
   "source": [
    "def divide(x, y):\n",
    "    return x / y\n",
    "\n",
    "print(divide(10,0))"
   ]
  },
  {
   "cell_type": "markdown",
   "id": "31c0b1ce-b70c-4a49-9f45-8cbe26c7c1c2",
   "metadata": {},
   "source": [
    "### Q3. Which Python are used to catch and handle Exception? Explain with Example."
   ]
  },
  {
   "cell_type": "markdown",
   "id": "cc2d2550-ab3d-449c-8fc8-79d52989e0b1",
   "metadata": {},
   "source": [
    "In *Python*, **try & except** block is used to catch and handled Exception. In try block we give the code that may raise error and except block will handled that error and gives the information about the error.  \n",
    "**Example:**"
   ]
  },
  {
   "cell_type": "code",
   "execution_count": 23,
   "id": "3bace2db-a2c4-4386-a956-9eda97b4d137",
   "metadata": {},
   "outputs": [
    {
     "name": "stdout",
     "output_type": "stream",
     "text": [
      "invalid literal for int() with base 10: 'Swaraj'\n"
     ]
    }
   ],
   "source": [
    "try:\n",
    "    int(\"Swaraj\")\n",
    "except Exception as e:\n",
    "    print(e)"
   ]
  },
  {
   "cell_type": "markdown",
   "id": "c58677fa-ed04-4488-b84c-d909fcfdb8bc",
   "metadata": {},
   "source": [
    "### Q4. Explain With Example.\n",
    "**a. try & else  \n",
    "b. finally  \n",
    "c. raise**"
   ]
  },
  {
   "cell_type": "markdown",
   "id": "0fa2c9fd-ea58-42f0-9e80-26744d87b12b",
   "metadata": {},
   "source": [
    "**try & else:** try is used to perform some operation, if the try block operation is get excuted then the else block will be excuted. otherwise the except block will raise error.\n",
    "\n",
    "**Example:**"
   ]
  },
  {
   "cell_type": "code",
   "execution_count": 14,
   "id": "d67ebf74-b020-4fe6-9714-4baa552dba54",
   "metadata": {},
   "outputs": [
    {
     "name": "stdout",
     "output_type": "stream",
     "text": [
      "5.0\n",
      "NO Exception is raised in 5.0\n"
     ]
    }
   ],
   "source": [
    "try:\n",
    "    n=10/2\n",
    "    print(n)\n",
    "except Exception as e:\n",
    "    print(e)\n",
    "else:\n",
    "    print(\"NO Exception is raised in\",n)"
   ]
  },
  {
   "cell_type": "markdown",
   "id": "f5e68753-d23b-4fec-a617-160e000a7681",
   "metadata": {},
   "source": [
    "**finally:** finally block is used to perform some operaion or display message whether the *try* block excecuted or not it will perform there operation in any situation\n",
    "\n",
    "**Example:** "
   ]
  },
  {
   "cell_type": "code",
   "execution_count": 17,
   "id": "12962636-d5d8-49db-b3dc-b63095968785",
   "metadata": {},
   "outputs": [
    {
     "name": "stdout",
     "output_type": "stream",
     "text": [
      "division by zero\n",
      "operation completed\n"
     ]
    }
   ],
   "source": [
    "try:\n",
    "    n=10/0\n",
    "    print(n)\n",
    "except Exception as e:\n",
    "    print(e)\n",
    "    \n",
    "finally:\n",
    "    print(\"operation completed\")"
   ]
  },
  {
   "cell_type": "markdown",
   "id": "d8343803-e01c-4d5f-ada6-10f3281a1062",
   "metadata": {},
   "source": [
    "**raise:** raise is a *keyword* which is used to raise error in custom Exception\n",
    "\n",
    "**Example:**"
   ]
  },
  {
   "cell_type": "code",
   "execution_count": 19,
   "id": "f1202d24-e094-432b-aec2-85d461186bab",
   "metadata": {},
   "outputs": [],
   "source": [
    "def message(n):\n",
    "    if n>=1 and n<=10:\n",
    "        raise custom_exception(\"Okay!\") #custom_exception is a class name\n",
    "    else:\n",
    "        raise custom_exception(\"oops! Your Number is not valid..Please Enter a Number between 1 to 10\")"
   ]
  },
  {
   "cell_type": "markdown",
   "id": "3c4a9a66-1f6b-454b-8dba-11eb38d10cfa",
   "metadata": {},
   "source": [
    "### Q.5 What are Custom Exception in python? why do we need custom Exception ? Explain with Example"
   ]
  },
  {
   "cell_type": "markdown",
   "id": "75c54f1f-7567-4f51-bbe6-2fd90502c8f1",
   "metadata": {
    "tags": []
   },
   "source": [
    "**custom Exception:** Error which raise in our words are called as custom error.  \n",
    "**why do we need custom Exception:** we use custom excption to make error in a our words and in a more Exceplained way.\n",
    "\n",
    "**Example:**"
   ]
  },
  {
   "cell_type": "code",
   "execution_count": 7,
   "id": "3bb327f5-5a49-427b-9b53-f8df49279ed5",
   "metadata": {},
   "outputs": [
    {
     "name": "stdin",
     "output_type": "stream",
     "text": [
      "Please enter a Number between 1 to 10: 1\n"
     ]
    },
    {
     "name": "stdout",
     "output_type": "stream",
     "text": [
      "Okay! Your number is valid\n"
     ]
    }
   ],
   "source": [
    "class custom_exception(Exception):\n",
    "    def __init__(self,message):\n",
    "        self.message=message\n",
    "        \n",
    "def custom_message(n):\n",
    "    if n>=1 and n<=10:\n",
    "        raise custom_exception(\"Okay! Your number is valid\")\n",
    "    else:\n",
    "        raise custom_exception(\"oops! Your Number is not valid..Please Enter a Number between 1 to 10\")\n",
    "\n",
    "\n",
    "user=int(input(\"Please enter a Number between 1 to 10:\"))\n",
    "try:\n",
    "    user%2==0\n",
    "    custom_message(user)\n",
    "except custom_exception as e:\n",
    "         print(e)"
   ]
  },
  {
   "cell_type": "markdown",
   "id": "a6a10b71-bb23-42c8-b5ed-432752efae3d",
   "metadata": {},
   "source": [
    "In the above code we gave our custom message in our words"
   ]
  },
  {
   "cell_type": "markdown",
   "id": "78ce48c7-37e3-44cc-8cb6-a1e66eae4920",
   "metadata": {},
   "source": [
    "### Q.6 Create a custom class Exception ? use this class to handle Exception "
   ]
  },
  {
   "cell_type": "code",
   "execution_count": 9,
   "id": "5d16719c-58a5-44e7-92eb-bdf8b2a0bb6d",
   "metadata": {},
   "outputs": [
    {
     "name": "stdin",
     "output_type": "stream",
     "text": [
      "Please enter a Number: 4\n"
     ]
    },
    {
     "name": "stdout",
     "output_type": "stream",
     "text": [
      "Alright Your number is valid\n"
     ]
    }
   ],
   "source": [
    "#creating a custom class Exception by Inheriting a Exception Class in the custom class \n",
    "class custom_exception(Exception):\n",
    "    def __init__(self,message):\n",
    "        self.message=message\n",
    "        \n",
    "#creating a custom message by using class\n",
    "def custom_message(num):\n",
    "    if num%2==0:\n",
    "        raise custom_exception(\"Alright Your number is valid\")\n",
    "    else:\n",
    "        raise custom_exception(\"oops! Your Number is not valid..Please Enter a Even Number\")\n",
    "\n",
    "\n",
    "#handling Exception by using the custom Exception class and method\n",
    "user=int(input(\"Please enter a Number:\"))\n",
    "try:\n",
    "    user%2==0\n",
    "    custom_message(user)\n",
    "except custom_exception as e:\n",
    "         print(e)"
   ]
  }
 ],
 "metadata": {
  "kernelspec": {
   "display_name": "Python 3 (ipykernel)",
   "language": "python",
   "name": "python3"
  },
  "language_info": {
   "codemirror_mode": {
    "name": "ipython",
    "version": 3
   },
   "file_extension": ".py",
   "mimetype": "text/x-python",
   "name": "python",
   "nbconvert_exporter": "python",
   "pygments_lexer": "ipython3",
   "version": "3.10.8"
  }
 },
 "nbformat": 4,
 "nbformat_minor": 5
}
